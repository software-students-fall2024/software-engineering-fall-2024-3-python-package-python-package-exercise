{
 "cells": [
  {
   "cell_type": "markdown",
   "metadata": {},
   "source": [
    "# Example Usage for Brainrot-Stocks\n",
    "Brainrot-Stocks is intended for use as a module in your Python programs."
   ]
  },
  {
   "cell_type": "code",
   "execution_count": null,
   "metadata": {
    "metadata": {}
   },
   "outputs": [],
   "source": [
    "from Financiers.stock import Stock\n",
    "import pandas as pd\n",
    "\n",
    "stock = Stock() # Initialize Stock instance"
   ]
  },
  {
   "cell_type": "code",
   "execution_count": null,
   "metadata": {
    "metadata": {}
   },
   "outputs": [],
   "source": [
    "# Returns a meaningless brainrot statement about the stock market's vibe using top gainers/losers\n",
    "print(stock.get_market_mood())"
   ]
  },
  {
   "cell_type": "code",
   "execution_count": null,
   "metadata": {
    "metadata": {}
   },
   "outputs": [],
   "source": [
    "# Retrieves the annual/quarterly earnings (EPS) for the company of interest with brainrot\n",
    "print (stock.get_earnings(\"AAPL\", annual=False, numDays=11))"
   ]
  },
  {
   "cell_type": "code",
   "execution_count": null,
   "metadata": {
    "metadata": {}
   },
   "outputs": [],
   "source": [
    "# Retrieves daily stock price data for the specified symbol.\n",
    "print(stock.get_price_data(\"AAPL\"))"
   ]
  },
  {
   "cell_type": "code",
   "execution_count": null,
   "metadata": {},
   "outputs": [],
   "source": [
    "# Forecasts stock prices using a simple model.\n",
    "print(stock.forecast_prices(\"AAPL\")) "
   ]
  },
  {
   "cell_type": "code",
   "execution_count": null,
   "metadata": {},
   "outputs": [],
   "source": [
    "# Provides general company overview\n",
    "print(stock.company_overview(\"IBM\"))"
   ]
  },
  {
   "cell_type": "code",
   "execution_count": null,
   "metadata": {},
   "outputs": [],
   "source": [
    "# Retrieves and displays the top gainer and loser among the provided stock symbols.\n",
    "print(stock.plot_top_movers([\"AAPL\", \"GOOGL\",\"IBM\"]))"
   ]
  },
  {
   "cell_type": "code",
   "execution_count": null,
   "metadata": {},
   "outputs": [],
   "source": [
    "# Provides future estimates for each stock in the given list over a specified number of days.\n",
    "print(stock.project_future_estimates([\"AAPL\", \"GOOGL\",\"IBM\"]))"
   ]
  },
  {
   "cell_type": "code",
   "execution_count": null,
   "metadata": {},
   "outputs": [],
   "source": [
    "# Calculate the True Range (TR) for each day.\n",
    "data = {\n",
    "    'high': [10, 10, 12, 12, 12, 12, 12, 12, 12, 12],\n",
    "    'low': [8, 8, 9, 10, 10, 10, 10, 10, 10, 10],\n",
    "    'close': [9, 9, 10, 11, 11, 11, 11, 11, 11, 11]\n",
    "}\n",
    "\n",
    "print(stock.calculate_atr(pd.DataFrame(data)))"
   ]
  }
 ],
 "metadata": {
  "kernelspec": {
   "display_name": "3-python-package-financeeers-GM0aA5WK",
   "language": "python",
   "name": "python3"
  },
  "language_info": {
   "codemirror_mode": {
    "name": "ipython",
    "version": 3
   },
   "file_extension": ".py",
   "mimetype": "text/x-python",
   "name": "python",
   "nbconvert_exporter": "python",
   "pygments_lexer": "ipython3",
   "version": "3.12.7"
  }
 },
 "nbformat": 4,
 "nbformat_minor": 2
}
